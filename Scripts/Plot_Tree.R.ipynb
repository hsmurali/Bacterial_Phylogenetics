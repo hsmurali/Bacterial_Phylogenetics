{
 "cells": [
  {
   "cell_type": "code",
   "execution_count": 1,
   "metadata": {},
   "outputs": [
    {
     "name": "stderr",
     "output_type": "stream",
     "text": [
      "ggtree v3.2.1  For help: https://yulab-smu.top/treedata-book/\n",
      "\n",
      "If you use ggtree in published research, please cite the most appropriate paper(s):\n",
      "\n",
      "1. Guangchuang Yu. Using ggtree to visualize data on tree-like structures. Current Protocols in Bioinformatics. 2020, 69:e96. doi:10.1002/cpbi.96\n",
      "2. Guangchuang Yu, Tommy Tsan-Yuk Lam, Huachen Zhu, Yi Guan. Two methods for mapping and visualizing associated data on phylogeny using ggtree. Molecular Biology and Evolution. 2018, 35(12):3041-3043. doi:10.1093/molbev/msy194\n",
      "3. Guangchuang Yu, David Smith, Huachen Zhu, Yi Guan, Tommy Tsan-Yuk Lam. ggtree: an R package for visualization and annotation of phylogenetic trees with their covariates and other associated data. Methods in Ecology and Evolution. 2017, 8(1):28-36. doi:10.1111/2041-210X.12628\n",
      "\n",
      "\n",
      "\n",
      "treeio v1.18.1  For help: https://yulab-smu.top/treedata-book/\n",
      "\n",
      "If you use treeio in published research, please cite:\n",
      "\n",
      "LG Wang, TTY Lam, S Xu, Z Dai, L Zhou, T Feng, P Guo, CW Dunn, BR Jones, T Bradley, H Zhu, Y Guan, Y Jiang, G Yu. treeio: an R package for phylogenetic tree input and output with richly annotated and associated data. Molecular Biology and Evolution 2020, 37(2):599-603. doi: 10.1093/molbev/msz240\n",
      "\n",
      "\n",
      "ggtreeExtra v1.4.1  For help: https://yulab-smu.top/treedata-book/\n",
      "\n",
      "If you use ggtreeExtra in published research, please cite the paper:\n",
      "\n",
      "S Xu, Z Dai, P Guo, X Fu, S Liu, L Zhou, W Tang, T Feng, M Chen, L Zhan, T Wu, E Hu, Y Jiang, X Bo, G Yu. ggtreeExtra: Compact visualization of richly annotated phylogenetic data. Molecular Biology and Evolution 2021, 38(9):4039-4042. doi: 10.1093/molbev/msab166\n",
      "\n",
      "\n",
      "\n",
      "\n",
      "Attaching package: ‘dplyr’\n",
      "\n",
      "\n",
      "The following objects are masked from ‘package:stats’:\n",
      "\n",
      "    filter, lag\n",
      "\n",
      "\n",
      "The following objects are masked from ‘package:base’:\n",
      "\n",
      "    intersect, setdiff, setequal, union\n",
      "\n",
      "\n"
     ]
    }
   ],
   "source": [
    "library(ggtree)\n",
    "library(treeio)\n",
    "library(ggplot2)\n",
    "library(ggnewscale)\n",
    "library(ggtreeExtra)\n",
    "library(dplyr)"
   ]
  },
  {
   "cell_type": "code",
   "execution_count": 2,
   "metadata": {},
   "outputs": [],
   "source": [
    "tree <- read.tree('/Users/harihara/Mount/CMSC829A/Data/Core_Species_Trees.tree')\n",
    "ddf_taxa <- read.csv('/Users/harihara/Mount/CMSC829A/Data/Taxonomy_Core_Genomes.txt')\n",
    "ddf_taxa <- ddf_taxa[(ddf_taxa$Tree_Leaves %in% c(tree$tip.label)), ]\n",
    "ddf_taxa[ddf_taxa$class=='',\"class\"] = \"cyanobacteria\"\n"
   ]
  },
  {
   "cell_type": "code",
   "execution_count": 3,
   "metadata": {},
   "outputs": [
    {
     "name": "stderr",
     "output_type": "stream",
     "text": [
      "Warning message in fortify.phylo(data, ...):\n",
      "“'edge.length' contains NA values...\n",
      "## setting 'edge.length' to NULL automatically when plotting the tree...”\n"
     ]
    }
   ],
   "source": [
    "tree_layout <- ggtree(tree,  layout=\"circular\", size = 0.5)\n",
    "tree_layout <- tree_layout %<+% ddf_taxa + geom_tippoint(mapping=aes(color=order), \n",
    "                                                         size=10, show.legend = FALSE)\n",
    "\n",
    "tree_layout <- tree_layout + geom_fruit(\n",
    "                                        geom=geom_bar,\n",
    "                                        mapping=aes(x = 0, fill=order),\n",
    "                                        pwidth=0.0, \n",
    "                                        orientation=\"y\", \n",
    "                                        stat=\"identity\") + \n",
    "                             scale_fill_discrete(name=\"Order\",\n",
    "                                                 guide=guide_legend(keywidth=5, \n",
    "                                                                    keyheight=5,\n",
    "                                                                    ncol=1)\n",
    "                                                )+ \n",
    "                             theme(legend.title=element_text(size=75), \n",
    "                                   legend.text=element_text(size=60))\n",
    "\n",
    "tree_layout <- tree_layout + \n",
    "               new_scale_fill() + \n",
    "               geom_fruit(geom=geom_bar,\n",
    "                          mapping=aes(x=1, \n",
    "                                      y=Tree_Leaves, \n",
    "                                      fill=phylum),\n",
    "                          pwidth=0.05, \n",
    "                          orientation=\"y\", \n",
    "                          stat=\"identity\") +\n",
    "               scale_fill_manual(values=c(\"red\",\"blue\",\n",
    "                                          \"green\",\"orange\",\n",
    "                                          \"yellow\", \"black\",\n",
    "                                          \"gray\"), \n",
    "                                 guide=guide_legend(keywidth=5, \n",
    "                                                    keyheight=5,\n",
    "                                                    ncol=1),\n",
    "                                 name = \"Phylum\")+ \n",
    "               theme(legend.title=element_text(size=75), \n",
    "                     legend.text=element_text(size=60))"
   ]
  },
  {
   "cell_type": "code",
   "execution_count": 5,
   "metadata": {},
   "outputs": [],
   "source": [
    "ggsave(filename = '/Users/harihara/UMD_Coursework/Fall_2021/CMSC829A/Project/Plots/Species_Tree.pdf', \n",
    "       plot = tree_layout, width=75, height=60,limitsize = FALSE)"
   ]
  },
  {
   "cell_type": "code",
   "execution_count": null,
   "metadata": {},
   "outputs": [],
   "source": []
  }
 ],
 "metadata": {
  "kernelspec": {
   "display_name": "R",
   "language": "R",
   "name": "ir"
  },
  "language_info": {
   "codemirror_mode": "r",
   "file_extension": ".r",
   "mimetype": "text/x-r-source",
   "name": "R",
   "pygments_lexer": "r",
   "version": "4.1.1"
  }
 },
 "nbformat": 4,
 "nbformat_minor": 2
}
