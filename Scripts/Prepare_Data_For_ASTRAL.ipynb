{
 "cells": [
  {
   "cell_type": "code",
   "execution_count": 1,
   "metadata": {},
   "outputs": [],
   "source": [
    "from os import listdir"
   ]
  },
  {
   "cell_type": "code",
   "execution_count": 9,
   "metadata": {},
   "outputs": [],
   "source": [
    "filedir = '/Users/harihara/Mount/CMSC829A/Data/Core_Gene_RAXML_Tree/'\n",
    "files = listdir(filedir)\n",
    "gene_names = open('/Users/harihara/Mount/CMSC829A/Data/Genes.txt','w')\n",
    "gene_trees = open('/Users/harihara/Mount/CMSC829A/Data/Genes_Trees.tree','w')\n",
    "for f in files:\n",
    "    if 'best' in f:\n",
    "        gene_tree = open(filedir+f).read()\n",
    "        gene_trees.write(gene_tree)\n",
    "        gene_names.write(f+'\\n')\n",
    "gene_names.close()\n",
    "gene_trees.close()"
   ]
  },
  {
   "cell_type": "code",
   "execution_count": null,
   "metadata": {},
   "outputs": [],
   "source": []
  }
 ],
 "metadata": {
  "kernelspec": {
   "display_name": "Python 3",
   "language": "python",
   "name": "python3"
  },
  "language_info": {
   "codemirror_mode": {
    "name": "ipython",
    "version": 3
   },
   "file_extension": ".py",
   "mimetype": "text/x-python",
   "name": "python",
   "nbconvert_exporter": "python",
   "pygments_lexer": "ipython3",
   "version": "3.7.3"
  }
 },
 "nbformat": 4,
 "nbformat_minor": 2
}
